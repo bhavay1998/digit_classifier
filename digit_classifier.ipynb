{
  "cells": [
    {
      "cell_type": "markdown",
      "id": "907143dd",
      "metadata": {
        "id": "907143dd"
      },
      "source": [
        "## Handwritten Digits Classifier\n",
        "This notebook uses PyTorch *tensors* to process images from the **[MNIST](https://en.wikipedia.org/wiki/MNIST_database)** dataset. This dataset contains 28x28 *black and white images* of handwritten numerical digits. The objective of this notebook is to see if creating a manual application (*without using any artificial neural network*) can sufficiently work as a digit classifier for all digits from 0 to 9."
      ]
    },
    {
      "cell_type": "markdown",
      "id": "59ab73d0",
      "metadata": {
        "id": "59ab73d0"
      },
      "source": [
        "## Exploring the Dataset"
      ]
    },
    {
      "cell_type": "code",
      "execution_count": null,
      "id": "665e5c67",
      "metadata": {
        "id": "665e5c67"
      },
      "outputs": [],
      "source": [
        "# !pip install fastbook\n",
        "from fastbook import *"
      ]
    },
    {
      "cell_type": "code",
      "execution_count": null,
      "id": "f4dd6e98",
      "metadata": {
        "id": "f4dd6e98",
        "outputId": "fc5122e4-b328-4551-8abd-62309c38089d"
      },
      "outputs": [
        {
          "data": {
            "text/plain": [
              "Path('C:/Users/singh/.fastai/data/mnist_png')"
            ]
          },
          "execution_count": 2,
          "metadata": {},
          "output_type": "execute_result"
        }
      ],
      "source": [
        "# Downloading and storing the dataset\n",
        "path = untar_data(URLs.MNIST)\n",
        "path"
      ]
    },
    {
      "cell_type": "code",
      "execution_count": null,
      "id": "ceeeed09",
      "metadata": {
        "id": "ceeeed09",
        "outputId": "1f181219-a8f0-4da3-dc6f-c9bfc432cc42"
      },
      "outputs": [
        {
          "data": {
            "text/plain": [
              "(#2) [Path('C:/Users/singh/.fastai/data/mnist_png/testing'),Path('C:/Users/singh/.fastai/data/mnist_png/training')]"
            ]
          },
          "execution_count": 3,
          "metadata": {},
          "output_type": "execute_result"
        }
      ],
      "source": [
        "# Items stored in the directory\n",
        "path.ls()"
      ]
    },
    {
      "cell_type": "code",
      "execution_count": null,
      "id": "b18db69d",
      "metadata": {
        "id": "b18db69d",
        "outputId": "92c8bcc7-0689-4ebe-d6e6-127555ae759e"
      },
      "outputs": [
        {
          "data": {
            "text/plain": [
              "(#10) [Path('C:/Users/singh/.fastai/data/mnist_png/training/0'),Path('C:/Users/singh/.fastai/data/mnist_png/training/1'),Path('C:/Users/singh/.fastai/data/mnist_png/training/2'),Path('C:/Users/singh/.fastai/data/mnist_png/training/3'),Path('C:/Users/singh/.fastai/data/mnist_png/training/4'),Path('C:/Users/singh/.fastai/data/mnist_png/training/5'),Path('C:/Users/singh/.fastai/data/mnist_png/training/6'),Path('C:/Users/singh/.fastai/data/mnist_png/training/7'),Path('C:/Users/singh/.fastai/data/mnist_png/training/8'),Path('C:/Users/singh/.fastai/data/mnist_png/training/9')]"
            ]
          },
          "execution_count": 4,
          "metadata": {},
          "output_type": "execute_result"
        }
      ],
      "source": [
        "# Exploring the training folder\n",
        "(path/'training').ls()"
      ]
    },
    {
      "cell_type": "markdown",
      "id": "282713e0",
      "metadata": {
        "id": "282713e0"
      },
      "source": [
        "The training folder contains subfolders for all the ten digits."
      ]
    },
    {
      "cell_type": "code",
      "execution_count": null,
      "id": "7c0c7960",
      "metadata": {
        "id": "7c0c7960",
        "outputId": "4460101e-1ce5-4f55-eefc-4c438cbac21f"
      },
      "outputs": [
        {
          "data": {
            "text/plain": [
              "(#6131) [Path('C:/Users/singh/.fastai/data/mnist_png/training/3/10.png'),Path('C:/Users/singh/.fastai/data/mnist_png/training/3/10000.png'),Path('C:/Users/singh/.fastai/data/mnist_png/training/3/10011.png'),Path('C:/Users/singh/.fastai/data/mnist_png/training/3/10031.png'),Path('C:/Users/singh/.fastai/data/mnist_png/training/3/10034.png'),Path('C:/Users/singh/.fastai/data/mnist_png/training/3/10042.png'),Path('C:/Users/singh/.fastai/data/mnist_png/training/3/10052.png'),Path('C:/Users/singh/.fastai/data/mnist_png/training/3/1007.png'),Path('C:/Users/singh/.fastai/data/mnist_png/training/3/10074.png'),Path('C:/Users/singh/.fastai/data/mnist_png/training/3/10091.png')...]"
            ]
          },
          "execution_count": 5,
          "metadata": {},
          "output_type": "execute_result"
        }
      ],
      "source": [
        "# How many images are there in training folder for each digit?\n",
        "(path/'training/3').ls()"
      ]
    },
    {
      "cell_type": "markdown",
      "id": "ed0cb37d",
      "metadata": {
        "id": "ed0cb37d"
      },
      "source": [
        "The number of images vary for each digit."
      ]
    },
    {
      "cell_type": "code",
      "execution_count": null,
      "id": "e9225e43",
      "metadata": {
        "id": "e9225e43",
        "outputId": "f52b8c88-7174-4df3-88a8-58e4179d10f9"
      },
      "outputs": [
        {
          "data": {
            "image/jpeg": "[encoded data removed]",
            "image/png": "[encoded data removed]",
            "text/plain": [
              "<PIL.PngImagePlugin.PngImageFile image mode=L size=28x28>"
            ]
          },
          "execution_count": 6,
          "metadata": {},
          "output_type": "execute_result"
        }
      ],
      "source": [
        "# What a stored image looks like?\n",
        "Image.open((path/'training/3').ls()[0])"
      ]
    },
    {
      "cell_type": "markdown",
      "id": "ceaf3690",
      "metadata": {
        "id": "ceaf3690"
      },
      "source": [
        "The size of the image is very small (28x28), so it needs to be resized. The *.to_thumb* method doesn't work here! A nice way to see how an image is stored is by converting the image into PyTorch tensor."
      ]
    },
    {
      "cell_type": "code",
      "execution_count": null,
      "id": "33536e16",
      "metadata": {
        "id": "33536e16",
        "outputId": "ac632e8f-3179-45f9-878e-0a743d10a6a4"
      },
      "outputs": [
        {
          "data": {
            "text/plain": [
              "tensor([[  0,   0,   0,   0, 104, 244, 254],\n",
              "        [  0,   0,   0,   0,   0, 207, 254],\n",
              "        [  0,   0,   0,   0,   0,  84, 206],\n",
              "        [  0,   0,   0,   0,   0,   0,  24],\n",
              "        [  0,   0,   0,   0,   0,  91, 137],\n",
              "        [  0,   0,   0,  40, 214, 250, 254],\n",
              "        [  0,   0,   0,  81, 247, 254, 254]], dtype=torch.uint8)"
            ]
          },
          "execution_count": 7,
          "metadata": {},
          "output_type": "execute_result"
        }
      ],
      "source": [
        "# Only opened version of images can be converted to PyTorch tensors\n",
        "im_3_train = Image.open((path/'training/3').ls()[0])\n",
        "tensor(im_3_train)[7:14,7:14]"
      ]
    },
    {
      "cell_type": "markdown",
      "id": "42e22412",
      "metadata": {
        "id": "42e22412"
      },
      "source": [
        "**0** represents white, while higher values represent the *saturation* of grey/black colour. This information can be visualised to make more sense of what these numbers are actually doing.\n",
        "> **Can you make out which digit is represented by the dataframe (*below*) by zooming out the screen?**"
      ]
    },
    {
      "cell_type": "code",
      "execution_count": null,
      "id": "40146b57",
      "metadata": {
        "id": "40146b57",
        "outputId": "2928eadf-1032-4c4a-af5e-7774c6cdd259"
      },
      "outputs": [
        {
          "data": {
            "text/html": [
              "<style type=\"text/css\">\n",
              "#T_97588_row0_col0, #T_97588_row0_col1, #T_97588_row0_col2, #T_97588_row0_col3, #T_97588_row0_col4, #T_97588_row0_col5, #T_97588_row0_col6, #T_97588_row0_col7, #T_97588_row0_col8, #T_97588_row1_col0, #T_97588_row1_col1, #T_97588_row1_col2, #T_97588_row2_col0, #T_97588_row2_col1, #T_97588_row3_col0, #T_97588_row3_col1, #T_97588_row4_col0, #T_97588_row4_col1, #T_97588_row4_col2, #T_97588_row5_col0, #T_97588_row5_col1, #T_97588_row5_col2, #T_97588_row5_col3, #T_97588_row6_col0, #T_97588_row6_col1, #T_97588_row6_col2, #T_97588_row6_col3, #T_97588_row7_col0, #T_97588_row7_col1, #T_97588_row7_col2, #T_97588_row7_col3, #T_97588_row7_col4, #T_97588_row8_col0, #T_97588_row8_col1, #T_97588_row8_col2, #T_97588_row8_col3, #T_97588_row9_col0, #T_97588_row9_col1, #T_97588_row10_col0, #T_97588_row10_col1, #T_97588_row11_col0, #T_97588_row11_col1, #T_97588_row11_col2, #T_97588_row12_col0, #T_97588_row12_col1, #T_97588_row12_col2, #T_97588_row12_col3, #T_97588_row13_col0, #T_97588_row13_col1, #T_97588_row13_col2, #T_97588_row13_col3, #T_97588_row13_col4, #T_97588_row13_col5, #T_97588_row13_col6, #T_97588_row13_col7, #T_97588_row14_col0, #T_97588_row14_col1, #T_97588_row14_col2, #T_97588_row14_col3, #T_97588_row14_col4, #T_97588_row14_col5, #T_97588_row14_col6, #T_97588_row15_col0, #T_97588_row15_col1, #T_97588_row15_col2, #T_97588_row15_col3, #T_97588_row15_col4, #T_97588_row15_col5, #T_97588_row15_col6, #T_97588_row16_col1, #T_97588_row16_col2, #T_97588_row16_col3, #T_97588_row16_col4, #T_97588_row16_col5, #T_97588_row17_col3 {\n",
              "  background-color: #ffffff;\n",
              "  color: #000000;\n",
              "}\n",
              "#T_97588_row1_col3 {\n",
              "  background-color: #e8e8e8;\n",
              "  color: #000000;\n",
              "}\n",
              "#T_97588_row1_col4, #T_97588_row1_col7, #T_97588_row1_col8, #T_97588_row2_col2 {\n",
              "  background-color: #a2a2a2;\n",
              "  color: #f1f1f1;\n",
              "}\n",
              "#T_97588_row1_col5 {\n",
              "  background-color: #292929;\n",
              "  color: #f1f1f1;\n",
              "}\n",
              "#T_97588_row1_col6 {\n",
              "  background-color: #6b6b6b;\n",
              "  color: #f1f1f1;\n",
              "}\n",
              "#T_97588_row2_col3 {\n",
              "  background-color: #060606;\n",
              "  color: #f1f1f1;\n",
              "}\n",
              "#T_97588_row2_col4, #T_97588_row2_col5, #T_97588_row2_col6, #T_97588_row2_col7, #T_97588_row2_col8, #T_97588_row3_col4, #T_97588_row3_col5, #T_97588_row3_col6, #T_97588_row3_col7, #T_97588_row3_col8, #T_97588_row4_col5, #T_97588_row4_col7, #T_97588_row4_col8, #T_97588_row5_col5, #T_97588_row5_col7, #T_97588_row5_col8, #T_97588_row6_col6, #T_97588_row6_col7, #T_97588_row6_col8, #T_97588_row7_col7, #T_97588_row7_col8, #T_97588_row8_col7, #T_97588_row8_col8, #T_97588_row9_col5, #T_97588_row9_col6, #T_97588_row9_col7, #T_97588_row9_col8, #T_97588_row10_col3, #T_97588_row10_col4, #T_97588_row10_col5, #T_97588_row10_col6, #T_97588_row10_col7, #T_97588_row10_col8, #T_97588_row11_col5, #T_97588_row11_col6, #T_97588_row11_col7, #T_97588_row11_col8, #T_97588_row14_col8, #T_97588_row15_col8, #T_97588_row16_col8, #T_97588_row17_col7, #T_97588_row17_col8, #T_97588_row18_col0, #T_97588_row18_col1, #T_97588_row18_col2, #T_97588_row18_col5, #T_97588_row18_col6 {\n",
              "  background-color: #000000;\n",
              "  color: #f1f1f1;\n",
              "}\n",
              "#T_97588_row3_col2 {\n",
              "  background-color: #f6f6f6;\n",
              "  color: #000000;\n",
              "}\n",
              "#T_97588_row3_col3 {\n",
              "  background-color: #111111;\n",
              "  color: #f1f1f1;\n",
              "}\n",
              "#T_97588_row4_col3 {\n",
              "  background-color: #afafaf;\n",
              "  color: #000000;\n",
              "}\n",
              "#T_97588_row4_col4 {\n",
              "  background-color: #0c0c0c;\n",
              "  color: #f1f1f1;\n",
              "}\n",
              "#T_97588_row4_col6 {\n",
              "  background-color: #232323;\n",
              "  color: #f1f1f1;\n",
              "}\n",
              "#T_97588_row5_col4 {\n",
              "  background-color: #3a3a3a;\n",
              "  color: #f1f1f1;\n",
              "}\n",
              "#T_97588_row5_col6 {\n",
              "  background-color: #363636;\n",
              "  color: #f1f1f1;\n",
              "}\n",
              "#T_97588_row6_col4 {\n",
              "  background-color: #c7c7c7;\n",
              "  color: #000000;\n",
              "}\n",
              "#T_97588_row6_col5, #T_97588_row17_col6 {\n",
              "  background-color: #3c3c3c;\n",
              "  color: #f1f1f1;\n",
              "}\n",
              "#T_97588_row7_col5 {\n",
              "  background-color: #f4f4f4;\n",
              "  color: #000000;\n",
              "}\n",
              "#T_97588_row7_col6 {\n",
              "  background-color: #383838;\n",
              "  color: #f1f1f1;\n",
              "}\n",
              "#T_97588_row8_col4 {\n",
              "  background-color: #c1c1c1;\n",
              "  color: #000000;\n",
              "}\n",
              "#T_97588_row8_col5 {\n",
              "  background-color: #8a8a8a;\n",
              "  color: #f1f1f1;\n",
              "}\n",
              "#T_97588_row8_col6, #T_97588_row18_col7 {\n",
              "  background-color: #010101;\n",
              "  color: #f1f1f1;\n",
              "}\n",
              "#T_97588_row9_col2 {\n",
              "  background-color: #e6e6e6;\n",
              "  color: #000000;\n",
              "}\n",
              "#T_97588_row9_col3 {\n",
              "  background-color: #282828;\n",
              "  color: #f1f1f1;\n",
              "}\n",
              "#T_97588_row9_col4 {\n",
              "  background-color: #050505;\n",
              "  color: #f1f1f1;\n",
              "}\n",
              "#T_97588_row10_col2, #T_97588_row12_col7 {\n",
              "  background-color: #bfbfbf;\n",
              "  color: #000000;\n",
              "}\n",
              "#T_97588_row11_col3 {\n",
              "  background-color: #a7a7a7;\n",
              "  color: #f1f1f1;\n",
              "}\n",
              "#T_97588_row11_col4 {\n",
              "  background-color: #090909;\n",
              "  color: #f1f1f1;\n",
              "}\n",
              "#T_97588_row12_col4 {\n",
              "  background-color: #d1d1d1;\n",
              "  color: #000000;\n",
              "}\n",
              "#T_97588_row12_col5, #T_97588_row12_col6, #T_97588_row17_col5 {\n",
              "  background-color: #c3c3c3;\n",
              "  color: #000000;\n",
              "}\n",
              "#T_97588_row12_col8, #T_97588_row16_col7 {\n",
              "  background-color: #101010;\n",
              "  color: #f1f1f1;\n",
              "}\n",
              "#T_97588_row13_col8 {\n",
              "  background-color: #949494;\n",
              "  color: #f1f1f1;\n",
              "}\n",
              "#T_97588_row14_col7 {\n",
              "  background-color: #fcfcfc;\n",
              "  color: #000000;\n",
              "}\n",
              "#T_97588_row15_col7 {\n",
              "  background-color: #898989;\n",
              "  color: #f1f1f1;\n",
              "}\n",
              "#T_97588_row16_col0 {\n",
              "  background-color: #c2c2c2;\n",
              "  color: #000000;\n",
              "}\n",
              "#T_97588_row16_col6 {\n",
              "  background-color: #f3f3f3;\n",
              "  color: #000000;\n",
              "}\n",
              "#T_97588_row17_col0 {\n",
              "  background-color: #2f2f2f;\n",
              "  color: #f1f1f1;\n",
              "}\n",
              "#T_97588_row17_col1 {\n",
              "  background-color: #dadada;\n",
              "  color: #000000;\n",
              "}\n",
              "#T_97588_row17_col2 {\n",
              "  background-color: #e9e9e9;\n",
              "  color: #000000;\n",
              "}\n",
              "#T_97588_row17_col4 {\n",
              "  background-color: #e2e2e2;\n",
              "  color: #000000;\n",
              "}\n",
              "#T_97588_row18_col3 {\n",
              "  background-color: #575757;\n",
              "  color: #f1f1f1;\n",
              "}\n",
              "#T_97588_row18_col4 {\n",
              "  background-color: #0f0f0f;\n",
              "  color: #f1f1f1;\n",
              "}\n",
              "#T_97588_row18_col8 {\n",
              "  background-color: #323232;\n",
              "  color: #f1f1f1;\n",
              "}\n",
              "</style>\n",
              "<table id=\"T_97588\">\n",
              "  <thead>\n",
              "    <tr>\n",
              "      <th class=\"blank level0\" >&nbsp;</th>\n",
              "      <th id=\"T_97588_level0_col0\" class=\"col_heading level0 col0\" >0</th>\n",
              "      <th id=\"T_97588_level0_col1\" class=\"col_heading level0 col1\" >1</th>\n",
              "      <th id=\"T_97588_level0_col2\" class=\"col_heading level0 col2\" >2</th>\n",
              "      <th id=\"T_97588_level0_col3\" class=\"col_heading level0 col3\" >3</th>\n",
              "      <th id=\"T_97588_level0_col4\" class=\"col_heading level0 col4\" >4</th>\n",
              "      <th id=\"T_97588_level0_col5\" class=\"col_heading level0 col5\" >5</th>\n",
              "      <th id=\"T_97588_level0_col6\" class=\"col_heading level0 col6\" >6</th>\n",
              "      <th id=\"T_97588_level0_col7\" class=\"col_heading level0 col7\" >7</th>\n",
              "      <th id=\"T_97588_level0_col8\" class=\"col_heading level0 col8\" >8</th>\n",
              "    </tr>\n",
              "  </thead>\n",
              "  <tbody>\n",
              "    <tr>\n",
              "      <th id=\"T_97588_level0_row0\" class=\"row_heading level0 row0\" >0</th>\n",
              "      <td id=\"T_97588_row0_col0\" class=\"data row0 col0\" >0</td>\n",
              "      <td id=\"T_97588_row0_col1\" class=\"data row0 col1\" >0</td>\n",
              "      <td id=\"T_97588_row0_col2\" class=\"data row0 col2\" >0</td>\n",
              "      <td id=\"T_97588_row0_col3\" class=\"data row0 col3\" >0</td>\n",
              "      <td id=\"T_97588_row0_col4\" class=\"data row0 col4\" >0</td>\n",
              "      <td id=\"T_97588_row0_col5\" class=\"data row0 col5\" >0</td>\n",
              "      <td id=\"T_97588_row0_col6\" class=\"data row0 col6\" >0</td>\n",
              "      <td id=\"T_97588_row0_col7\" class=\"data row0 col7\" >0</td>\n",
              "      <td id=\"T_97588_row0_col8\" class=\"data row0 col8\" >0</td>\n",
              "    </tr>\n",
              "    <tr>\n",
              "      <th id=\"T_97588_level0_row1\" class=\"row_heading level0 row1\" >1</th>\n",
              "      <td id=\"T_97588_row1_col0\" class=\"data row1 col0\" >0</td>\n",
              "      <td id=\"T_97588_row1_col1\" class=\"data row1 col1\" >0</td>\n",
              "      <td id=\"T_97588_row1_col2\" class=\"data row1 col2\" >0</td>\n",
              "      <td id=\"T_97588_row1_col3\" class=\"data row1 col3\" >42</td>\n",
              "      <td id=\"T_97588_row1_col4\" class=\"data row1 col4\" >118</td>\n",
              "      <td id=\"T_97588_row1_col5\" class=\"data row1 col5\" >219</td>\n",
              "      <td id=\"T_97588_row1_col6\" class=\"data row1 col6\" >166</td>\n",
              "      <td id=\"T_97588_row1_col7\" class=\"data row1 col7\" >118</td>\n",
              "      <td id=\"T_97588_row1_col8\" class=\"data row1 col8\" >118</td>\n",
              "    </tr>\n",
              "    <tr>\n",
              "      <th id=\"T_97588_level0_row2\" class=\"row_heading level0 row2\" >2</th>\n",
              "      <td id=\"T_97588_row2_col0\" class=\"data row2 col0\" >0</td>\n",
              "      <td id=\"T_97588_row2_col1\" class=\"data row2 col1\" >0</td>\n",
              "      <td id=\"T_97588_row2_col2\" class=\"data row2 col2\" >103</td>\n",
              "      <td id=\"T_97588_row2_col3\" class=\"data row2 col3\" >242</td>\n",
              "      <td id=\"T_97588_row2_col4\" class=\"data row2 col4\" >254</td>\n",
              "      <td id=\"T_97588_row2_col5\" class=\"data row2 col5\" >254</td>\n",
              "      <td id=\"T_97588_row2_col6\" class=\"data row2 col6\" >254</td>\n",
              "      <td id=\"T_97588_row2_col7\" class=\"data row2 col7\" >254</td>\n",
              "      <td id=\"T_97588_row2_col8\" class=\"data row2 col8\" >254</td>\n",
              "    </tr>\n",
              "    <tr>\n",
              "      <th id=\"T_97588_level0_row3\" class=\"row_heading level0 row3\" >3</th>\n",
              "      <td id=\"T_97588_row3_col0\" class=\"data row3 col0\" >0</td>\n",
              "      <td id=\"T_97588_row3_col1\" class=\"data row3 col1\" >0</td>\n",
              "      <td id=\"T_97588_row3_col2\" class=\"data row3 col2\" >18</td>\n",
              "      <td id=\"T_97588_row3_col3\" class=\"data row3 col3\" >232</td>\n",
              "      <td id=\"T_97588_row3_col4\" class=\"data row3 col4\" >254</td>\n",
              "      <td id=\"T_97588_row3_col5\" class=\"data row3 col5\" >254</td>\n",
              "      <td id=\"T_97588_row3_col6\" class=\"data row3 col6\" >254</td>\n",
              "      <td id=\"T_97588_row3_col7\" class=\"data row3 col7\" >254</td>\n",
              "      <td id=\"T_97588_row3_col8\" class=\"data row3 col8\" >254</td>\n",
              "    </tr>\n",
              "    <tr>\n",
              "      <th id=\"T_97588_level0_row4\" class=\"row_heading level0 row4\" >4</th>\n",
              "      <td id=\"T_97588_row4_col0\" class=\"data row4 col0\" >0</td>\n",
              "      <td id=\"T_97588_row4_col1\" class=\"data row4 col1\" >0</td>\n",
              "      <td id=\"T_97588_row4_col2\" class=\"data row4 col2\" >0</td>\n",
              "      <td id=\"T_97588_row4_col3\" class=\"data row4 col3\" >104</td>\n",
              "      <td id=\"T_97588_row4_col4\" class=\"data row4 col4\" >244</td>\n",
              "      <td id=\"T_97588_row4_col5\" class=\"data row4 col5\" >254</td>\n",
              "      <td id=\"T_97588_row4_col6\" class=\"data row4 col6\" >224</td>\n",
              "      <td id=\"T_97588_row4_col7\" class=\"data row4 col7\" >254</td>\n",
              "      <td id=\"T_97588_row4_col8\" class=\"data row4 col8\" >254</td>\n",
              "    </tr>\n",
              "    <tr>\n",
              "      <th id=\"T_97588_level0_row5\" class=\"row_heading level0 row5\" >5</th>\n",
              "      <td id=\"T_97588_row5_col0\" class=\"data row5 col0\" >0</td>\n",
              "      <td id=\"T_97588_row5_col1\" class=\"data row5 col1\" >0</td>\n",
              "      <td id=\"T_97588_row5_col2\" class=\"data row5 col2\" >0</td>\n",
              "      <td id=\"T_97588_row5_col3\" class=\"data row5 col3\" >0</td>\n",
              "      <td id=\"T_97588_row5_col4\" class=\"data row5 col4\" >207</td>\n",
              "      <td id=\"T_97588_row5_col5\" class=\"data row5 col5\" >254</td>\n",
              "      <td id=\"T_97588_row5_col6\" class=\"data row5 col6\" >210</td>\n",
              "      <td id=\"T_97588_row5_col7\" class=\"data row5 col7\" >254</td>\n",
              "      <td id=\"T_97588_row5_col8\" class=\"data row5 col8\" >254</td>\n",
              "    </tr>\n",
              "    <tr>\n",
              "      <th id=\"T_97588_level0_row6\" class=\"row_heading level0 row6\" >6</th>\n",
              "      <td id=\"T_97588_row6_col0\" class=\"data row6 col0\" >0</td>\n",
              "      <td id=\"T_97588_row6_col1\" class=\"data row6 col1\" >0</td>\n",
              "      <td id=\"T_97588_row6_col2\" class=\"data row6 col2\" >0</td>\n",
              "      <td id=\"T_97588_row6_col3\" class=\"data row6 col3\" >0</td>\n",
              "      <td id=\"T_97588_row6_col4\" class=\"data row6 col4\" >84</td>\n",
              "      <td id=\"T_97588_row6_col5\" class=\"data row6 col5\" >206</td>\n",
              "      <td id=\"T_97588_row6_col6\" class=\"data row6 col6\" >254</td>\n",
              "      <td id=\"T_97588_row6_col7\" class=\"data row6 col7\" >254</td>\n",
              "      <td id=\"T_97588_row6_col8\" class=\"data row6 col8\" >254</td>\n",
              "    </tr>\n",
              "    <tr>\n",
              "      <th id=\"T_97588_level0_row7\" class=\"row_heading level0 row7\" >7</th>\n",
              "      <td id=\"T_97588_row7_col0\" class=\"data row7 col0\" >0</td>\n",
              "      <td id=\"T_97588_row7_col1\" class=\"data row7 col1\" >0</td>\n",
              "      <td id=\"T_97588_row7_col2\" class=\"data row7 col2\" >0</td>\n",
              "      <td id=\"T_97588_row7_col3\" class=\"data row7 col3\" >0</td>\n",
              "      <td id=\"T_97588_row7_col4\" class=\"data row7 col4\" >0</td>\n",
              "      <td id=\"T_97588_row7_col5\" class=\"data row7 col5\" >24</td>\n",
              "      <td id=\"T_97588_row7_col6\" class=\"data row7 col6\" >209</td>\n",
              "      <td id=\"T_97588_row7_col7\" class=\"data row7 col7\" >254</td>\n",
              "      <td id=\"T_97588_row7_col8\" class=\"data row7 col8\" >254</td>\n",
              "    </tr>\n",
              "    <tr>\n",
              "      <th id=\"T_97588_level0_row8\" class=\"row_heading level0 row8\" >8</th>\n",
              "      <td id=\"T_97588_row8_col0\" class=\"data row8 col0\" >0</td>\n",
              "      <td id=\"T_97588_row8_col1\" class=\"data row8 col1\" >0</td>\n",
              "      <td id=\"T_97588_row8_col2\" class=\"data row8 col2\" >0</td>\n",
              "      <td id=\"T_97588_row8_col3\" class=\"data row8 col3\" >0</td>\n",
              "      <td id=\"T_97588_row8_col4\" class=\"data row8 col4\" >91</td>\n",
              "      <td id=\"T_97588_row8_col5\" class=\"data row8 col5\" >137</td>\n",
              "      <td id=\"T_97588_row8_col6\" class=\"data row8 col6\" >253</td>\n",
              "      <td id=\"T_97588_row8_col7\" class=\"data row8 col7\" >254</td>\n",
              "      <td id=\"T_97588_row8_col8\" class=\"data row8 col8\" >254</td>\n",
              "    </tr>\n",
              "    <tr>\n",
              "      <th id=\"T_97588_level0_row9\" class=\"row_heading level0 row9\" >9</th>\n",
              "      <td id=\"T_97588_row9_col0\" class=\"data row9 col0\" >0</td>\n",
              "      <td id=\"T_97588_row9_col1\" class=\"data row9 col1\" >0</td>\n",
              "      <td id=\"T_97588_row9_col2\" class=\"data row9 col2\" >40</td>\n",
              "      <td id=\"T_97588_row9_col3\" class=\"data row9 col3\" >214</td>\n",
              "      <td id=\"T_97588_row9_col4\" class=\"data row9 col4\" >250</td>\n",
              "      <td id=\"T_97588_row9_col5\" class=\"data row9 col5\" >254</td>\n",
              "      <td id=\"T_97588_row9_col6\" class=\"data row9 col6\" >254</td>\n",
              "      <td id=\"T_97588_row9_col7\" class=\"data row9 col7\" >254</td>\n",
              "      <td id=\"T_97588_row9_col8\" class=\"data row9 col8\" >254</td>\n",
              "    </tr>\n",
              "    <tr>\n",
              "      <th id=\"T_97588_level0_row10\" class=\"row_heading level0 row10\" >10</th>\n",
              "      <td id=\"T_97588_row10_col0\" class=\"data row10 col0\" >0</td>\n",
              "      <td id=\"T_97588_row10_col1\" class=\"data row10 col1\" >0</td>\n",
              "      <td id=\"T_97588_row10_col2\" class=\"data row10 col2\" >81</td>\n",
              "      <td id=\"T_97588_row10_col3\" class=\"data row10 col3\" >247</td>\n",
              "      <td id=\"T_97588_row10_col4\" class=\"data row10 col4\" >254</td>\n",
              "      <td id=\"T_97588_row10_col5\" class=\"data row10 col5\" >254</td>\n",
              "      <td id=\"T_97588_row10_col6\" class=\"data row10 col6\" >254</td>\n",
              "      <td id=\"T_97588_row10_col7\" class=\"data row10 col7\" >254</td>\n",
              "      <td id=\"T_97588_row10_col8\" class=\"data row10 col8\" >254</td>\n",
              "    </tr>\n",
              "    <tr>\n",
              "      <th id=\"T_97588_level0_row11\" class=\"row_heading level0 row11\" >11</th>\n",
              "      <td id=\"T_97588_row11_col0\" class=\"data row11 col0\" >0</td>\n",
              "      <td id=\"T_97588_row11_col1\" class=\"data row11 col1\" >0</td>\n",
              "      <td id=\"T_97588_row11_col2\" class=\"data row11 col2\" >0</td>\n",
              "      <td id=\"T_97588_row11_col3\" class=\"data row11 col3\" >110</td>\n",
              "      <td id=\"T_97588_row11_col4\" class=\"data row11 col4\" >246</td>\n",
              "      <td id=\"T_97588_row11_col5\" class=\"data row11 col5\" >254</td>\n",
              "      <td id=\"T_97588_row11_col6\" class=\"data row11 col6\" >254</td>\n",
              "      <td id=\"T_97588_row11_col7\" class=\"data row11 col7\" >254</td>\n",
              "      <td id=\"T_97588_row11_col8\" class=\"data row11 col8\" >254</td>\n",
              "    </tr>\n",
              "    <tr>\n",
              "      <th id=\"T_97588_level0_row12\" class=\"row_heading level0 row12\" >12</th>\n",
              "      <td id=\"T_97588_row12_col0\" class=\"data row12 col0\" >0</td>\n",
              "      <td id=\"T_97588_row12_col1\" class=\"data row12 col1\" >0</td>\n",
              "      <td id=\"T_97588_row12_col2\" class=\"data row12 col2\" >0</td>\n",
              "      <td id=\"T_97588_row12_col3\" class=\"data row12 col3\" >0</td>\n",
              "      <td id=\"T_97588_row12_col4\" class=\"data row12 col4\" >73</td>\n",
              "      <td id=\"T_97588_row12_col5\" class=\"data row12 col5\" >89</td>\n",
              "      <td id=\"T_97588_row12_col6\" class=\"data row12 col6\" >89</td>\n",
              "      <td id=\"T_97588_row12_col7\" class=\"data row12 col7\" >93</td>\n",
              "      <td id=\"T_97588_row12_col8\" class=\"data row12 col8\" >240</td>\n",
              "    </tr>\n",
              "    <tr>\n",
              "      <th id=\"T_97588_level0_row13\" class=\"row_heading level0 row13\" >13</th>\n",
              "      <td id=\"T_97588_row13_col0\" class=\"data row13 col0\" >0</td>\n",
              "      <td id=\"T_97588_row13_col1\" class=\"data row13 col1\" >0</td>\n",
              "      <td id=\"T_97588_row13_col2\" class=\"data row13 col2\" >0</td>\n",
              "      <td id=\"T_97588_row13_col3\" class=\"data row13 col3\" >0</td>\n",
              "      <td id=\"T_97588_row13_col4\" class=\"data row13 col4\" >0</td>\n",
              "      <td id=\"T_97588_row13_col5\" class=\"data row13 col5\" >0</td>\n",
              "      <td id=\"T_97588_row13_col6\" class=\"data row13 col6\" >0</td>\n",
              "      <td id=\"T_97588_row13_col7\" class=\"data row13 col7\" >1</td>\n",
              "      <td id=\"T_97588_row13_col8\" class=\"data row13 col8\" >128</td>\n",
              "    </tr>\n",
              "    <tr>\n",
              "      <th id=\"T_97588_level0_row14\" class=\"row_heading level0 row14\" >14</th>\n",
              "      <td id=\"T_97588_row14_col0\" class=\"data row14 col0\" >0</td>\n",
              "      <td id=\"T_97588_row14_col1\" class=\"data row14 col1\" >0</td>\n",
              "      <td id=\"T_97588_row14_col2\" class=\"data row14 col2\" >0</td>\n",
              "      <td id=\"T_97588_row14_col3\" class=\"data row14 col3\" >0</td>\n",
              "      <td id=\"T_97588_row14_col4\" class=\"data row14 col4\" >0</td>\n",
              "      <td id=\"T_97588_row14_col5\" class=\"data row14 col5\" >0</td>\n",
              "      <td id=\"T_97588_row14_col6\" class=\"data row14 col6\" >0</td>\n",
              "      <td id=\"T_97588_row14_col7\" class=\"data row14 col7\" >7</td>\n",
              "      <td id=\"T_97588_row14_col8\" class=\"data row14 col8\" >254</td>\n",
              "    </tr>\n",
              "    <tr>\n",
              "      <th id=\"T_97588_level0_row15\" class=\"row_heading level0 row15\" >15</th>\n",
              "      <td id=\"T_97588_row15_col0\" class=\"data row15 col0\" >0</td>\n",
              "      <td id=\"T_97588_row15_col1\" class=\"data row15 col1\" >0</td>\n",
              "      <td id=\"T_97588_row15_col2\" class=\"data row15 col2\" >0</td>\n",
              "      <td id=\"T_97588_row15_col3\" class=\"data row15 col3\" >0</td>\n",
              "      <td id=\"T_97588_row15_col4\" class=\"data row15 col4\" >0</td>\n",
              "      <td id=\"T_97588_row15_col5\" class=\"data row15 col5\" >0</td>\n",
              "      <td id=\"T_97588_row15_col6\" class=\"data row15 col6\" >0</td>\n",
              "      <td id=\"T_97588_row15_col7\" class=\"data row15 col7\" >138</td>\n",
              "      <td id=\"T_97588_row15_col8\" class=\"data row15 col8\" >254</td>\n",
              "    </tr>\n",
              "    <tr>\n",
              "      <th id=\"T_97588_level0_row16\" class=\"row_heading level0 row16\" >16</th>\n",
              "      <td id=\"T_97588_row16_col0\" class=\"data row16 col0\" >90</td>\n",
              "      <td id=\"T_97588_row16_col1\" class=\"data row16 col1\" >0</td>\n",
              "      <td id=\"T_97588_row16_col2\" class=\"data row16 col2\" >0</td>\n",
              "      <td id=\"T_97588_row16_col3\" class=\"data row16 col3\" >0</td>\n",
              "      <td id=\"T_97588_row16_col4\" class=\"data row16 col4\" >0</td>\n",
              "      <td id=\"T_97588_row16_col5\" class=\"data row16 col5\" >0</td>\n",
              "      <td id=\"T_97588_row16_col6\" class=\"data row16 col6\" >25</td>\n",
              "      <td id=\"T_97588_row16_col7\" class=\"data row16 col7\" >240</td>\n",
              "      <td id=\"T_97588_row16_col8\" class=\"data row16 col8\" >254</td>\n",
              "    </tr>\n",
              "    <tr>\n",
              "      <th id=\"T_97588_level0_row17\" class=\"row_heading level0 row17\" >17</th>\n",
              "      <td id=\"T_97588_row17_col0\" class=\"data row17 col0\" >215</td>\n",
              "      <td id=\"T_97588_row17_col1\" class=\"data row17 col1\" >63</td>\n",
              "      <td id=\"T_97588_row17_col2\" class=\"data row17 col2\" >36</td>\n",
              "      <td id=\"T_97588_row17_col3\" class=\"data row17 col3\" >0</td>\n",
              "      <td id=\"T_97588_row17_col4\" class=\"data row17 col4\" >51</td>\n",
              "      <td id=\"T_97588_row17_col5\" class=\"data row17 col5\" >89</td>\n",
              "      <td id=\"T_97588_row17_col6\" class=\"data row17 col6\" >206</td>\n",
              "      <td id=\"T_97588_row17_col7\" class=\"data row17 col7\" >254</td>\n",
              "      <td id=\"T_97588_row17_col8\" class=\"data row17 col8\" >254</td>\n",
              "    </tr>\n",
              "    <tr>\n",
              "      <th id=\"T_97588_level0_row18\" class=\"row_heading level0 row18\" >18</th>\n",
              "      <td id=\"T_97588_row18_col0\" class=\"data row18 col0\" >254</td>\n",
              "      <td id=\"T_97588_row18_col1\" class=\"data row18 col1\" >254</td>\n",
              "      <td id=\"T_97588_row18_col2\" class=\"data row18 col2\" >222</td>\n",
              "      <td id=\"T_97588_row18_col3\" class=\"data row18 col3\" >180</td>\n",
              "      <td id=\"T_97588_row18_col4\" class=\"data row18 col4\" >241</td>\n",
              "      <td id=\"T_97588_row18_col5\" class=\"data row18 col5\" >254</td>\n",
              "      <td id=\"T_97588_row18_col6\" class=\"data row18 col6\" >254</td>\n",
              "      <td id=\"T_97588_row18_col7\" class=\"data row18 col7\" >253</td>\n",
              "      <td id=\"T_97588_row18_col8\" class=\"data row18 col8\" >213</td>\n",
              "    </tr>\n",
              "  </tbody>\n",
              "</table>\n"
            ],
            "text/plain": [
              "<pandas.io.formats.style.Styler at 0x194cde70810>"
            ]
          },
          "execution_count": 8,
          "metadata": {},
          "output_type": "execute_result"
        }
      ],
      "source": [
        "# Convert tensor to pandas dataframe\n",
        "import pandas as pd\n",
        "df = pd.DataFrame((tensor(im_3_train)[3:22,8:17]))\n",
        "df.style.background_gradient('Greys')"
      ]
    },
    {
      "cell_type": "markdown",
      "id": "dc6257c2",
      "metadata": {
        "id": "dc6257c2"
      },
      "source": [
        "## Average pixel value\n",
        "In an attempt to identify a way in which we can distinguish between the 10 digits easily, a representative image for each handwritten digit is created. With this approach we can see what an *average* digit really looks like. The meaning of what **average** means will be understood as this section is covered."
      ]
    },
    {
      "cell_type": "code",
      "execution_count": null,
      "id": "e73d4b56",
      "metadata": {
        "id": "e73d4b56"
      },
      "outputs": [],
      "source": [
        "# Considering digit '3' first\n",
        "train_3 = (path/'training/3').ls()"
      ]
    },
    {
      "cell_type": "code",
      "execution_count": null,
      "id": "3deb7037",
      "metadata": {
        "id": "3deb7037",
        "outputId": "d890571e-4df4-480b-e3d2-73ba4e52b6c5"
      },
      "outputs": [
        {
          "data": {
            "text/plain": [
              "Path('C:/Users/singh/.fastai/data/mnist_png/training/3/10.png')"
            ]
          },
          "execution_count": 10,
          "metadata": {},
          "output_type": "execute_result"
        }
      ],
      "source": [
        "# All images are stored as .png files\n",
        "train_3[0]"
      ]
    },
    {
      "cell_type": "markdown",
      "id": "3e925062",
      "metadata": {
        "id": "3e925062"
      },
      "source": [
        "To convert a single image to tensor, the code is:  \n",
        "```\n",
        "> tensor(Image.open(train_3[0]))\n",
        "```\n",
        "\n",
        "\n",
        "\n",
        "\n",
        "\n",
        "\n",
        "\n"
      ]
    },
    {
      "cell_type": "code",
      "execution_count": null,
      "id": "92cea767",
      "metadata": {
        "id": "92cea767",
        "outputId": "49261ba3-74ff-4d19-8e9e-5732863a834f"
      },
      "outputs": [
        {
          "data": {
            "text/plain": [
              "6131"
            ]
          },
          "execution_count": 11,
          "metadata": {},
          "output_type": "execute_result"
        }
      ],
      "source": [
        "# Converting to PyTorch tensors using list comprehension\n",
        "train_3_tensors = [tensor(Image.open(o)) for o in train_3]\n",
        "len(train_3_tensors)"
      ]
    },
    {
      "cell_type": "markdown",
      "id": "e3d417d1",
      "metadata": {
        "id": "e3d417d1"
      },
      "source": [
        "Every image in the training set (of digit 3) has been converted to a tensor. All tensors are stored together in a list."
      ]
    },
    {
      "cell_type": "code",
      "execution_count": null,
      "id": "03667aa9",
      "metadata": {
        "id": "03667aa9",
        "outputId": "a1030686-a167-4406-b103-396ca3e47b5f"
      },
      "outputs": [
        {
          "data": {
            "text/plain": [
              "torch.Size([6131, 28, 28])"
            ]
          },
          "execution_count": 12,
          "metadata": {},
          "output_type": "execute_result"
        }
      ],
      "source": [
        "# Stacking all tensors into a single tensor\n",
        "train_3_stacked = torch.stack(train_3_tensors)\n",
        "train_3_stacked.size()"
      ]
    },
    {
      "cell_type": "code",
      "execution_count": null,
      "id": "ce008a27",
      "metadata": {
        "id": "ce008a27",
        "outputId": "34a7c06f-8fa0-4b63-eeb3-14757b0eca2e"
      },
      "outputs": [
        {
          "data": {
            "text/plain": [
              "torch.Tensor"
            ]
          },
          "execution_count": 13,
          "metadata": {},
          "output_type": "execute_result"
        }
      ],
      "source": [
        "# Verifying if all images are stored in a single tensor\n",
        "type(train_3_stacked)"
      ]
    },
    {
      "cell_type": "code",
      "execution_count": null,
      "id": "cda953ac",
      "metadata": {
        "id": "cda953ac",
        "outputId": "3ec0b125-243a-411e-ce9f-7798da4edb3a"
      },
      "outputs": [
        {
          "data": {
            "text/plain": [
              "torch.Size([28, 28])"
            ]
          },
          "execution_count": 14,
          "metadata": {},
          "output_type": "execute_result"
        }
      ],
      "source": [
        "# Taking average pixel value of all training images\n",
        "avg_3 = torch.mean(train_3_stacked.float(), 0)\n",
        "avg_3.size()"
      ]
    },
    {
      "cell_type": "code",
      "execution_count": null,
      "id": "415fb5d9",
      "metadata": {
        "id": "415fb5d9",
        "outputId": "e5c5c19c-f973-4391-86aa-2124344a8475"
      },
      "outputs": [
        {
          "data": {
            "text/plain": [
              "<Axes: >"
            ]
          },
          "execution_count": 15,
          "metadata": {},
          "output_type": "execute_result"
        },
        {
          "data": {
            "image/png": "[encoded data removed]",
            "text/plain": [
              "<Figure size 100x100 with 1 Axes>"
            ]
          },
          "metadata": {},
          "output_type": "display_data"
        }
      ],
      "source": [
        "# Convert tensor back to image using matplotlib\n",
        "show_image(avg_3, cmap = \"binary\")"
      ]
    },
    {
      "cell_type": "markdown",
      "id": "9a11e401",
      "metadata": {
        "id": "9a11e401"
      },
      "source": [
        "This is what an **average 3** digit looks like. The *average* images of digits behave as **ideal** image of what a digit should look like. Average images for all other digits are prepared below."
      ]
    },
    {
      "cell_type": "code",
      "execution_count": null,
      "id": "8724d2e7",
      "metadata": {
        "id": "8724d2e7"
      },
      "outputs": [],
      "source": [
        "# Storing all remaining digits\n",
        "train_0 = (path/'training/0').ls()\n",
        "train_1 = (path/'training/1').ls()\n",
        "train_2 = (path/'training/2').ls()\n",
        "train_4 = (path/'training/4').ls()\n",
        "train_5 = (path/'training/5').ls()\n",
        "train_6 = (path/'training/6').ls()\n",
        "train_7 = (path/'training/7').ls()\n",
        "train_8 = (path/'training/8').ls()\n",
        "train_9 = (path/'training/9').ls()\n",
        "\n",
        "# Converting to tensors\n",
        "train_0_tensors = [tensor(Image.open(o)) for o in train_0]\n",
        "train_1_tensors = [tensor(Image.open(o)) for o in train_1]\n",
        "train_2_tensors = [tensor(Image.open(o)) for o in train_2]\n",
        "train_4_tensors = [tensor(Image.open(o)) for o in train_4]\n",
        "train_5_tensors = [tensor(Image.open(o)) for o in train_5]\n",
        "train_6_tensors = [tensor(Image.open(o)) for o in train_6]\n",
        "train_7_tensors = [tensor(Image.open(o)) for o in train_7]\n",
        "train_8_tensors = [tensor(Image.open(o)) for o in train_8]\n",
        "train_9_tensors = [tensor(Image.open(o)) for o in train_9]\n",
        "\n",
        "# Stacking tensors together\n",
        "train_0_stacked = torch.stack(train_0_tensors)\n",
        "train_1_stacked = torch.stack(train_1_tensors)\n",
        "train_2_stacked = torch.stack(train_2_tensors)\n",
        "train_4_stacked = torch.stack(train_4_tensors)\n",
        "train_5_stacked = torch.stack(train_5_tensors)\n",
        "train_6_stacked = torch.stack(train_6_tensors)\n",
        "train_7_stacked = torch.stack(train_7_tensors)\n",
        "train_8_stacked = torch.stack(train_8_tensors)\n",
        "train_9_stacked = torch.stack(train_9_tensors)\n",
        "\n",
        "# Calculating average\n",
        "avg_0 = torch.mean(train_0_stacked.float(), 0)\n",
        "avg_1 = torch.mean(train_1_stacked.float(), 0)\n",
        "avg_2 = torch.mean(train_2_stacked.float(), 0)\n",
        "avg_4 = torch.mean(train_4_stacked.float(), 0)\n",
        "avg_5 = torch.mean(train_5_stacked.float(), 0)\n",
        "avg_6 = torch.mean(train_6_stacked.float(), 0)\n",
        "avg_7 = torch.mean(train_7_stacked.float(), 0)\n",
        "avg_8 = torch.mean(train_8_stacked.float(), 0)\n",
        "avg_9 = torch.mean(train_9_stacked.float(), 0)"
      ]
    },
    {
      "cell_type": "code",
      "execution_count": null,
      "id": "2d93e19e",
      "metadata": {
        "id": "2d93e19e",
        "outputId": "ac4f6521-885b-44fb-ff5e-649bb420a9d9"
      },
      "outputs": [
        {
          "data": {
            "text/plain": [
              "<Axes: >"
            ]
          },
          "execution_count": 17,
          "metadata": {},
          "output_type": "execute_result"
        },
        {
          "data": {
            "image/png": "[encoded data removed]",
            "text/plain": [
              "<Figure size 100x100 with 1 Axes>"
            ]
          },
          "metadata": {},
          "output_type": "display_data"
        }
      ],
      "source": [
        "show_image(avg_0, cmap='binary')"
      ]
    },
    {
      "cell_type": "code",
      "execution_count": null,
      "id": "d007c65c",
      "metadata": {
        "id": "d007c65c",
        "outputId": "c6a6dad0-6b65-4930-e9ee-b89fde738f6b"
      },
      "outputs": [
        {
          "data": {
            "text/plain": [
              "<Axes: >"
            ]
          },
          "execution_count": 18,
          "metadata": {},
          "output_type": "execute_result"
        },
        {
          "data": {
            "image/png": "[encoded data removed]",
            "text/plain": [
              "<Figure size 100x100 with 1 Axes>"
            ]
          },
          "metadata": {},
          "output_type": "display_data"
        }
      ],
      "source": [
        "show_image(avg_1, cmap='binary')"
      ]
    },
    {
      "cell_type": "code",
      "execution_count": null,
      "id": "f706f78b",
      "metadata": {
        "id": "f706f78b",
        "outputId": "f8dbb8ef-94b2-4e9d-d80c-0a0891e6d8aa"
      },
      "outputs": [
        {
          "data": {
            "text/plain": [
              "<Axes: >"
            ]
          },
          "execution_count": 19,
          "metadata": {},
          "output_type": "execute_result"
        },
        {
          "data": {
            "image/png": "[encoded data removed]",
            "text/plain": [
              "<Figure size 100x100 with 1 Axes>"
            ]
          },
          "metadata": {},
          "output_type": "display_data"
        }
      ],
      "source": [
        "show_image(avg_2, cmap='binary')"
      ]
    },
    {
      "cell_type": "code",
      "execution_count": null,
      "id": "f5726e2c",
      "metadata": {
        "id": "f5726e2c",
        "outputId": "aa27e7e5-d6cf-499d-e9b7-7a8d324c8ff3"
      },
      "outputs": [
        {
          "data": {
            "text/plain": [
              "<Axes: >"
            ]
          },
          "execution_count": 20,
          "metadata": {},
          "output_type": "execute_result"
        },
        {
          "data": {
            "image/png": "[encoded data removed]",
            "text/plain": [
              "<Figure size 100x100 with 1 Axes>"
            ]
          },
          "metadata": {},
          "output_type": "display_data"
        }
      ],
      "source": [
        "show_image(avg_4, cmap='binary')"
      ]
    },
    {
      "cell_type": "code",
      "execution_count": null,
      "id": "43924b30",
      "metadata": {
        "id": "43924b30",
        "outputId": "f9dfff76-28b4-4ddb-8adb-8fac3d1e21a7"
      },
      "outputs": [
        {
          "data": {
            "text/plain": [
              "<Axes: >"
            ]
          },
          "execution_count": 21,
          "metadata": {},
          "output_type": "execute_result"
        },
        {
          "data": {
            "image/png": "[encoded data removed]",
            "text/plain": [
              "<Figure size 100x100 with 1 Axes>"
            ]
          },
          "metadata": {},
          "output_type": "display_data"
        }
      ],
      "source": [
        "show_image(avg_5, cmap='binary')"
      ]
    },
    {
      "cell_type": "code",
      "execution_count": null,
      "id": "b7cf2c58",
      "metadata": {
        "id": "b7cf2c58",
        "outputId": "6de8d60c-b860-4c88-f285-1798817f155c"
      },
      "outputs": [
        {
          "data": {
            "text/plain": [
              "<Axes: >"
            ]
          },
          "execution_count": 22,
          "metadata": {},
          "output_type": "execute_result"
        },
        {
          "data": {
            "image/png": "[encoded data removed]",
            "text/plain": [
              "<Figure size 100x100 with 1 Axes>"
            ]
          },
          "metadata": {},
          "output_type": "display_data"
        }
      ],
      "source": [
        "show_image(avg_6, cmap='binary')"
      ]
    },
    {
      "cell_type": "code",
      "execution_count": null,
      "id": "b997d827",
      "metadata": {
        "id": "b997d827",
        "outputId": "c091d3b3-253e-441c-c3d8-375e9abc19e8"
      },
      "outputs": [
        {
          "data": {
            "text/plain": [
              "<Axes: >"
            ]
          },
          "execution_count": 23,
          "metadata": {},
          "output_type": "execute_result"
        },
        {
          "data": {
            "image/png": "[encoded data removed]",
            "text/plain": [
              "<Figure size 100x100 with 1 Axes>"
            ]
          },
          "metadata": {},
          "output_type": "display_data"
        }
      ],
      "source": [
        "show_image(avg_7, cmap='binary')"
      ]
    },
    {
      "cell_type": "code",
      "execution_count": null,
      "id": "c4afd196",
      "metadata": {
        "id": "c4afd196",
        "outputId": "30f4aeed-cd0f-4a59-f56e-1a83dabdf411"
      },
      "outputs": [
        {
          "data": {
            "text/plain": [
              "<Axes: >"
            ]
          },
          "execution_count": 24,
          "metadata": {},
          "output_type": "execute_result"
        },
        {
          "data": {
            "image/png": "[encoded data removed]",
            "text/plain": [
              "<Figure size 100x100 with 1 Axes>"
            ]
          },
          "metadata": {},
          "output_type": "display_data"
        }
      ],
      "source": [
        "show_image(avg_8, cmap='binary')"
      ]
    },
    {
      "cell_type": "code",
      "execution_count": null,
      "id": "1ba6e7a2",
      "metadata": {
        "id": "1ba6e7a2",
        "outputId": "b63a7f6b-33aa-417f-8e7a-2149b6468591"
      },
      "outputs": [
        {
          "data": {
            "text/plain": [
              "<Axes: >"
            ]
          },
          "execution_count": 25,
          "metadata": {},
          "output_type": "execute_result"
        },
        {
          "data": {
            "image/png": "[encoded data removed]",
            "text/plain": [
              "<Figure size 100x100 with 1 Axes>"
            ]
          },
          "metadata": {},
          "output_type": "display_data"
        }
      ],
      "source": [
        "show_image(avg_9, cmap='binary')"
      ]
    },
    {
      "cell_type": "markdown",
      "id": "b5947bac",
      "metadata": {
        "id": "b5947bac"
      },
      "source": [
        "## Defining a measure of similarity\n",
        "Now that *average* images for each digit can be seen, a similarity measure has to be defined that can assess which digit is most similar to the input image. In other words, a **loss function** needs to be defined where the actual digit of the input image gets assigned the *least loss*, compared to the remaining digits.\n",
        "<br><br>\n",
        "For predicting the digit contained in an image, each pixel holds a numerical value and is essentially behaving as an input. This means that there are 28x28 = 784 inputs per image. So, similarity can be measured by *value difference* between each pixel of the input image and the ideal image of a digit, on average. The ideal image with the least average value difference **i.e. least loss** will be the prediction. To preserve the difference as *distance*, **squared difference** should be considered (*Alternatively, absolute value can also be considered*).\n",
        "<br><br>\n",
        "The loss that has been used here is also called **mean squared error** (mse)."
      ]
    },
    {
      "cell_type": "code",
      "execution_count": null,
      "id": "d7a95bca",
      "metadata": {
        "id": "d7a95bca",
        "outputId": "55e377c9-b1d9-4b5d-9ce0-95b505a46b06"
      },
      "outputs": [
        {
          "data": {
            "image/jpeg": "[encoded data removed]",
            "image/png": "[encoded data removed]",
            "text/plain": [
              "<PIL.PngImagePlugin.PngImageFile image mode=L size=28x28>"
            ]
          },
          "execution_count": 26,
          "metadata": {},
          "output_type": "execute_result"
        }
      ],
      "source": [
        "# Consider handwritten image of digit 7\n",
        "Image.open((path/'training/7').ls()[0])"
      ]
    },
    {
      "cell_type": "code",
      "execution_count": null,
      "id": "07650169",
      "metadata": {
        "id": "07650169",
        "outputId": "afe6f5c3-9db1-4935-b875-0078701a81ec"
      },
      "outputs": [
        {
          "data": {
            "text/plain": [
              "tensor([[254, 252, 252],\n",
              "        [252, 250, 250],\n",
              "        [252, 189, 190]], dtype=torch.uint8)"
            ]
          },
          "execution_count": 27,
          "metadata": {},
          "output_type": "execute_result"
        }
      ],
      "source": [
        "# Selected area in tensor form\n",
        "input_im_7 = tensor(Image.open((path/'training/7').ls()[0]))\n",
        "input_im_7[7:10,7:10]"
      ]
    },
    {
      "cell_type": "code",
      "execution_count": null,
      "id": "6c2e5810",
      "metadata": {
        "id": "6c2e5810",
        "outputId": "5ab2b92b-2e91-4341-e5b7-a5bf79c10117"
      },
      "outputs": [
        {
          "data": {
            "text/plain": [
              "tensor([[ 61.6009,  86.1059, 108.8380],\n",
              "        [ 49.6154,  63.9397,  75.1961],\n",
              "        [ 30.4851,  36.1417,  39.7407]])"
            ]
          },
          "execution_count": 28,
          "metadata": {},
          "output_type": "execute_result"
        }
      ],
      "source": [
        "# Same selected area for average image of digit 3\n",
        "avg_3[7:10,7:10]"
      ]
    },
    {
      "cell_type": "code",
      "execution_count": null,
      "id": "8931c98d",
      "metadata": {
        "id": "8931c98d",
        "outputId": "389b2e49-c63b-4713-e032-13baefc7ba49"
      },
      "outputs": [
        {
          "data": {
            "text/plain": [
              "tensor([[37017.4219, 27520.8633, 20495.3457],\n",
              "        [40959.5273, 34618.4531, 30556.4219],\n",
              "        [49068.8594, 23365.6484, 22577.8691]])"
            ]
          },
          "execution_count": 29,
          "metadata": {},
          "output_type": "execute_result"
        }
      ],
      "source": [
        "# Example: squared value difference between average image of 3 and this digit 7\n",
        "diff_sq = pow(input_im_7[7:10,7:10].float() - avg_3[7:10,7:10].float(),2).float()\n",
        "diff_sq"
      ]
    },
    {
      "cell_type": "code",
      "execution_count": null,
      "id": "09b0c5c8",
      "metadata": {
        "id": "09b0c5c8",
        "outputId": "8c0b030b-a9ef-4713-c89f-176fceb08622"
      },
      "outputs": [
        {
          "data": {
            "text/plain": [
              "tensor(31797.8223)"
            ]
          },
          "execution_count": 30,
          "metadata": {},
          "output_type": "execute_result"
        }
      ],
      "source": [
        "# distance averaged over the selected area [7:10,7:10]\n",
        "diff_sq.mean((-1,-2))"
      ]
    },
    {
      "cell_type": "markdown",
      "id": "76aa5e1d",
      "metadata": {
        "id": "76aa5e1d"
      },
      "source": [
        "## Defining a prediction function\n",
        "Using the above illustration, a prediction can be made by calculating the average distance of an input image with average images of all 10 handwritten digits. Prediction is therefore the average image with the least *loss*."
      ]
    },
    {
      "cell_type": "code",
      "execution_count": null,
      "id": "40bc11c1",
      "metadata": {
        "id": "40bc11c1"
      },
      "outputs": [],
      "source": [
        "# pass the input image as a path\n",
        "def predict(image):\n",
        "    image_tensor = tensor(Image.open(image))\n",
        "\n",
        "    # Calculation for average squared difference\n",
        "    loss_0 = (pow(image_tensor.float() - avg_0.float(),2)).mean((-1,-2))\n",
        "    loss_1 = (pow(image_tensor.float() - avg_1.float(),2)).mean((-1,-2))\n",
        "    loss_2 = (pow(image_tensor.float() - avg_2.float(),2)).mean((-1,-2))\n",
        "    loss_3 = (pow(image_tensor.float() - avg_3.float(),2)).mean((-1,-2))\n",
        "    loss_4 = (pow(image_tensor.float() - avg_4.float(),2)).mean((-1,-2))\n",
        "    loss_5 = (pow(image_tensor.float() - avg_5.float(),2)).mean((-1,-2))\n",
        "    loss_6 = (pow(image_tensor.float() - avg_6.float(),2)).mean((-1,-2))\n",
        "    loss_7 = (pow(image_tensor.float() - avg_7.float(),2)).mean((-1,-2))\n",
        "    loss_8 = (pow(image_tensor.float() - avg_8.float(),2)).mean((-1,-2))\n",
        "    loss_9 = (pow(image_tensor.float() - avg_9.float(),2)).mean((-1,-2))\n",
        "\n",
        "    # Storing deviations as losses\n",
        "    losses = [loss_0, loss_1, loss_2, loss_3, loss_4, loss_5, loss_6, loss_7, loss_8, loss_9]\n",
        "\n",
        "    # Returning digit with the least loss\n",
        "    return losses.index(min(losses))"
      ]
    },
    {
      "cell_type": "code",
      "execution_count": null,
      "id": "aaf8c507",
      "metadata": {
        "id": "aaf8c507",
        "outputId": "a11a8173-df3d-4426-f6ef-f859cc07e544"
      },
      "outputs": [
        {
          "data": {
            "image/jpeg": "[encoded data removed]",
            "image/png": "[encoded data removed]",
            "text/plain": [
              "<PIL.PngImagePlugin.PngImageFile image mode=L size=28x28>"
            ]
          },
          "execution_count": 32,
          "metadata": {},
          "output_type": "execute_result"
        }
      ],
      "source": [
        "# test image\n",
        "Image.open((path/'training/6').ls()[44])"
      ]
    },
    {
      "cell_type": "code",
      "execution_count": null,
      "id": "9c4d9cf1",
      "metadata": {
        "id": "9c4d9cf1",
        "outputId": "67284144-85ad-4e91-e963-8b6eb8ade9a2"
      },
      "outputs": [
        {
          "data": {
            "text/plain": [
              "6"
            ]
          },
          "execution_count": 33,
          "metadata": {},
          "output_type": "execute_result"
        }
      ],
      "source": [
        "# Checking prediction on the image\n",
        "predict((path/'training/6').ls()[44])"
      ]
    },
    {
      "cell_type": "markdown",
      "id": "5f4baed7",
      "metadata": {
        "id": "5f4baed7"
      },
      "source": [
        "## So how good is the performance?\n",
        "Predicting digit using *average images* seems to work. But this shoud be tested for the validation set to get a read of the accuracy for this approach. This section explains how the performance for this approach is measured. The accuracy is measured for each digit and then averaged over all the 10 digits."
      ]
    },
    {
      "cell_type": "code",
      "execution_count": null,
      "id": "1fe9e4bc",
      "metadata": {
        "id": "1fe9e4bc",
        "outputId": "05ddba11-9059-4c18-d715-c2382d5d58b5"
      },
      "outputs": [
        {
          "data": {
            "text/plain": [
              "(#10) [Path('C:/Users/singh/.fastai/data/mnist_png/testing/0'),Path('C:/Users/singh/.fastai/data/mnist_png/testing/1'),Path('C:/Users/singh/.fastai/data/mnist_png/testing/2'),Path('C:/Users/singh/.fastai/data/mnist_png/testing/3'),Path('C:/Users/singh/.fastai/data/mnist_png/testing/4'),Path('C:/Users/singh/.fastai/data/mnist_png/testing/5'),Path('C:/Users/singh/.fastai/data/mnist_png/testing/6'),Path('C:/Users/singh/.fastai/data/mnist_png/testing/7'),Path('C:/Users/singh/.fastai/data/mnist_png/testing/8'),Path('C:/Users/singh/.fastai/data/mnist_png/testing/9')]"
            ]
          },
          "execution_count": 34,
          "metadata": {},
          "output_type": "execute_result"
        }
      ],
      "source": [
        "# validation set\n",
        "(path/'testing').ls()"
      ]
    },
    {
      "cell_type": "code",
      "execution_count": null,
      "id": "c5bc5efc",
      "metadata": {
        "id": "c5bc5efc",
        "outputId": "9eeee1f0-7c2f-4f3f-9864-e5d7a02038c7"
      },
      "outputs": [
        {
          "data": {
            "text/plain": [
              "(#980) [Path('C:/Users/singh/.fastai/data/mnist_png/testing/0/10.png'),Path('C:/Users/singh/.fastai/data/mnist_png/testing/0/1001.png'),Path('C:/Users/singh/.fastai/data/mnist_png/testing/0/1009.png'),Path('C:/Users/singh/.fastai/data/mnist_png/testing/0/101.png'),Path('C:/Users/singh/.fastai/data/mnist_png/testing/0/1034.png'),Path('C:/Users/singh/.fastai/data/mnist_png/testing/0/1047.png'),Path('C:/Users/singh/.fastai/data/mnist_png/testing/0/1061.png'),Path('C:/Users/singh/.fastai/data/mnist_png/testing/0/1084.png'),Path('C:/Users/singh/.fastai/data/mnist_png/testing/0/1094.png'),Path('C:/Users/singh/.fastai/data/mnist_png/testing/0/1121.png')...]"
            ]
          },
          "execution_count": 35,
          "metadata": {},
          "output_type": "execute_result"
        }
      ],
      "source": [
        "# testing directory - digit 0\n",
        "(path/'testing'/'0').ls()"
      ]
    },
    {
      "cell_type": "code",
      "execution_count": null,
      "id": "efc0f5c6",
      "metadata": {
        "id": "efc0f5c6"
      },
      "outputs": [],
      "source": [
        "# Defining accuracy function\n",
        "def calc_acc(digit):\n",
        "    digit = str(digit)\n",
        "    digit_path = (path/'testing'/digit).ls()\n",
        "    predictions = [predict(i) for i in digit_path]\n",
        "\n",
        "    # number of correct predictions\n",
        "    correct_pred = [j==float(digit) for j in predictions]\n",
        "\n",
        "    # accuracy\n",
        "    return sum(correct_pred)/len(predictions)"
      ]
    },
    {
      "cell_type": "code",
      "execution_count": null,
      "id": "e6d71131",
      "metadata": {
        "id": "e6d71131",
        "outputId": "bfb046e4-065e-4972-9ba0-9683e9baeb57"
      },
      "outputs": [
        {
          "data": {
            "text/plain": [
              "0.8959183673469387"
            ]
          },
          "execution_count": 37,
          "metadata": {},
          "output_type": "execute_result"
        }
      ],
      "source": [
        "# Accuracy for digit 0 in the testing set\n",
        "accuracy_0 = calc_acc(0)\n",
        "accuracy_0"
      ]
    },
    {
      "cell_type": "code",
      "execution_count": null,
      "id": "eceb8b17",
      "metadata": {
        "id": "eceb8b17"
      },
      "outputs": [],
      "source": [
        "# Calculating accuracy for remaining digits\n",
        "accuracy_1 = calc_acc(1)\n",
        "accuracy_2 = calc_acc(2)\n",
        "accuracy_3 = calc_acc(3)\n",
        "accuracy_4 = calc_acc(4)\n",
        "accuracy_5 = calc_acc(5)\n",
        "accuracy_6 = calc_acc(6)\n",
        "accuracy_7 = calc_acc(7)\n",
        "accuracy_8 = calc_acc(8)\n",
        "accuracy_9 = calc_acc(9)"
      ]
    },
    {
      "cell_type": "code",
      "execution_count": null,
      "id": "4334c98d",
      "metadata": {
        "id": "4334c98d",
        "outputId": "177f73e5-c9c4-4f7c-ef54-6fc6f714d9a0"
      },
      "outputs": [
        {
          "data": {
            "text/plain": [
              "0.8172567959938041"
            ]
          },
          "execution_count": 39,
          "metadata": {},
          "output_type": "execute_result"
        }
      ],
      "source": [
        "# Average accuracy\n",
        "(accuracy_0+accuracy_1+accuracy_2+accuracy_3+accuracy_4+accuracy_5+accuracy_6+accuracy_7+accuracy_8+accuracy_9)/10"
      ]
    },
    {
      "cell_type": "markdown",
      "id": "5b236d97",
      "metadata": {
        "id": "5b236d97"
      },
      "source": [
        "## Conclusion\n",
        "Without using any artificial neural networks, a simple digit classifier using handwritten images is created in this notebook. This was achieved through image processing techniques using PyTorch tensors. It is seen that the *accuracy for this approach* is around **81%**, which is a very decent performance considering that no machine learning methods were used. The drawback with this approach is that *it's not learning from its mistakes*. This is exactly why using artificial neural networks with *stochastic gradient descent* can improve accuracy further."
      ]
    }
  ],
  "metadata": {
    "kernelspec": {
      "display_name": "Python 3 (ipykernel)",
      "language": "python",
      "name": "python3"
    },
    "language_info": {
      "codemirror_mode": {
        "name": "ipython",
        "version": 3
      },
      "file_extension": ".py",
      "mimetype": "text/x-python",
      "name": "python",
      "nbconvert_exporter": "python",
      "pygments_lexer": "ipython3",
      "version": "3.11.9"
    },
    "colab": {
      "provenance": []
    }
  },
  "nbformat": 4,
  "nbformat_minor": 5
}